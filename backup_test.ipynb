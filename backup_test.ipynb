{
 "cells": [
  {
   "cell_type": "code",
   "execution_count": 3,
   "metadata": {},
   "outputs": [],
   "source": [
    "import zipfile, os\n",
    "from datetime import datetime\n",
    "now=datetime.now().strftime('%Y-%m-%d %H.%M.%S')\n",
    "source = \"C:/Users/bdcas/AppData/Local/Packages/Microsoft.MinecraftUWP_8wekyb3d8bbwe/LocalState/games/com.mojang/minecraftWorlds\"\n",
    "source_base = 'C:/Users/bdcas/OneDrive/Desktop/python/minecraft'\n",
    "destination = f\"y:/minecraft/Server_World_Backups_{now}.zip\"\n",
    "\n",
    "def zip_folder(path_to_folder, output_path):\n",
    "    with zipfile.ZipFile(output_path, 'w', zipfile.ZIP_DEFLATED) as zf:\n",
    "        for root, dirs, files in os.walk(path_to_folder):\n",
    "            for file in files:\n",
    "                file_path = os.path.join(root, file)\n",
    "                zf.write(file_path, os.path.relpath(file_path, path_to_folder))"
   ]
  },
  {
   "cell_type": "code",
   "execution_count": 20,
   "metadata": {},
   "outputs": [],
   "source": [
    "def get_first_folder_paths(target_folder):\n",
    "    folder_paths = []\n",
    "    entries = os.listdir(target_folder)\n",
    "    for entry in entries:\n",
    "        entry_path = os.path.join(target_folder, entry) # Construct the full path to the entry\n",
    "        # Check if the entry is a directory\n",
    "        if os.path.isdir(entry_path):\n",
    "            folder_paths.append(entry_path)\n",
    "    return folder_paths"
   ]
  },
  {
   "cell_type": "code",
   "execution_count": 32,
   "metadata": {},
   "outputs": [],
   "source": [
    "worlds = get_first_folder_paths(source)"
   ]
  },
  {
   "cell_type": "code",
   "execution_count": 35,
   "metadata": {},
   "outputs": [
    {
     "name": "stdout",
     "output_type": "stream",
     "text": [
      "Saved Far lands test\n",
      "Saved My World\n"
     ]
    }
   ],
   "source": [
    "worlds = get_first_folder_paths(source)\n",
    "\n",
    "for world in worlds:\n",
    "    # Read world name\n",
    "    txt = world + '/levelname.txt'\n",
    "    with open(txt, 'r') as file:\n",
    "        world_name = file.read()\n",
    "    output_path = source_base + f'/{world_name}.mcworld'\n",
    "    zip_folder(world, output_path)\n",
    "    print('Saved', world_name)"
   ]
  },
  {
   "cell_type": "code",
   "execution_count": null,
   "metadata": {},
   "outputs": [],
   "source": []
  },
  {
   "cell_type": "code",
   "execution_count": null,
   "metadata": {},
   "outputs": [],
   "source": []
  }
 ],
 "metadata": {
  "kernelspec": {
   "display_name": "Python 3",
   "language": "python",
   "name": "python3"
  },
  "language_info": {
   "codemirror_mode": {
    "name": "ipython",
    "version": 3
   },
   "file_extension": ".py",
   "mimetype": "text/x-python",
   "name": "python",
   "nbconvert_exporter": "python",
   "pygments_lexer": "ipython3",
   "version": "3.9.6"
  }
 },
 "nbformat": 4,
 "nbformat_minor": 2
}
